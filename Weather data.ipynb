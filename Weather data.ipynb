{
 "cells": [
  {
   "cell_type": "code",
   "execution_count": null,
   "metadata": {},
   "outputs": [],
   "source": [
    "pip install wwo-hist"
   ]
  },
  {
   "cell_type": "code",
   "execution_count": 3,
   "metadata": {},
   "outputs": [],
   "source": [
    "from wwo_hist import retrieve_hist_data\n",
    "import datetime"
   ]
  },
  {
   "cell_type": "code",
   "execution_count": 5,
   "metadata": {},
   "outputs": [
    {
     "name": "stdout",
     "output_type": "stream",
     "text": [
      "\n",
      "\n",
      "Retrieving weather data for China\n",
      "\n",
      "\n",
      "Currently retrieving data for China: from 2020-01-22 to 2020-01-31\n",
      "Time elapsed (hh:mm:ss.ms) 0:00:00.868952\n",
      "Currently retrieving data for China: from 2020-02-01 to 2020-02-29\n",
      "Time elapsed (hh:mm:ss.ms) 0:00:01.983013\n",
      "Currently retrieving data for China: from 2020-03-01 to 2020-03-16\n",
      "Time elapsed (hh:mm:ss.ms) 0:00:02.671795\n",
      "\n",
      "\n",
      "export China completed!\n",
      "\n",
      "\n",
      "\n",
      "\n",
      "Retrieving weather data for Italy\n",
      "\n",
      "\n",
      "Currently retrieving data for Italy: from 2020-01-22 to 2020-01-31\n",
      "Time elapsed (hh:mm:ss.ms) 0:00:00.510364\n",
      "Currently retrieving data for Italy: from 2020-02-01 to 2020-02-29\n",
      "Time elapsed (hh:mm:ss.ms) 0:00:02.307208\n",
      "Currently retrieving data for Italy: from 2020-03-01 to 2020-03-16\n",
      "Time elapsed (hh:mm:ss.ms) 0:00:03.078657\n",
      "\n",
      "\n",
      "export Italy completed!\n",
      "\n",
      "\n",
      "\n",
      "\n",
      "Retrieving weather data for Iran\n",
      "\n",
      "\n",
      "Currently retrieving data for Iran: from 2020-01-22 to 2020-01-31\n",
      "Time elapsed (hh:mm:ss.ms) 0:00:00.580384\n",
      "Currently retrieving data for Iran: from 2020-02-01 to 2020-02-29\n",
      "Time elapsed (hh:mm:ss.ms) 0:00:01.729872\n",
      "Currently retrieving data for Iran: from 2020-03-01 to 2020-03-16\n",
      "Time elapsed (hh:mm:ss.ms) 0:00:02.435499\n",
      "\n",
      "\n",
      "export Iran completed!\n",
      "\n",
      "\n",
      "\n",
      "\n",
      "Retrieving weather data for Saudi\n",
      "\n",
      "\n",
      "Currently retrieving data for Saudi: from 2020-01-22 to 2020-01-31\n",
      "Time elapsed (hh:mm:ss.ms) 0:00:00.570658\n",
      "Currently retrieving data for Saudi: from 2020-02-01 to 2020-02-29\n",
      "Time elapsed (hh:mm:ss.ms) 0:00:01.456066\n",
      "Currently retrieving data for Saudi: from 2020-03-01 to 2020-03-16\n",
      "Time elapsed (hh:mm:ss.ms) 0:00:02.125186\n",
      "\n",
      "\n",
      "export Saudi completed!\n",
      "\n",
      "\n",
      "\n",
      "\n",
      "Retrieving weather data for Ko\n",
      "\n",
      "\n",
      "Currently retrieving data for Ko: from 2020-01-22 to 2020-01-31\n"
     ]
    },
    {
     "ename": "KeyError",
     "evalue": "'weather'",
     "output_type": "error",
     "traceback": [
      "\u001b[0;31m---------------------------------------------------------------------------\u001b[0m",
      "\u001b[0;31mKeyError\u001b[0m                                  Traceback (most recent call last)",
      "\u001b[0;32m<ipython-input-5-3aa6c2a784e2>\u001b[0m in \u001b[0;36m<module>\u001b[0;34m\u001b[0m\n\u001b[1;32m     12\u001b[0m                                 \u001b[0mlocation_label\u001b[0m \u001b[0;34m=\u001b[0m \u001b[0;32mFalse\u001b[0m\u001b[0;34m,\u001b[0m\u001b[0;34m\u001b[0m\u001b[0;34m\u001b[0m\u001b[0m\n\u001b[1;32m     13\u001b[0m                                 \u001b[0mexport_csv\u001b[0m \u001b[0;34m=\u001b[0m \u001b[0;32mTrue\u001b[0m\u001b[0;34m,\u001b[0m\u001b[0;34m\u001b[0m\u001b[0;34m\u001b[0m\u001b[0m\n\u001b[0;32m---> 14\u001b[0;31m                                 store_df = True)\n\u001b[0m",
      "\u001b[0;32m~/opt/anaconda3/lib/python3.7/site-packages/wwo_hist/__init__.py\u001b[0m in \u001b[0;36mretrieve_hist_data\u001b[0;34m(api_key, location_list, start_date, end_date, frequency, location_label, export_csv, store_df)\u001b[0m\n\u001b[1;32m    104\u001b[0m     \u001b[0;32mfor\u001b[0m \u001b[0mlocation\u001b[0m \u001b[0;32min\u001b[0m \u001b[0mlocation_list\u001b[0m\u001b[0;34m:\u001b[0m\u001b[0;34m\u001b[0m\u001b[0;34m\u001b[0m\u001b[0m\n\u001b[1;32m    105\u001b[0m         \u001b[0mprint\u001b[0m\u001b[0;34m(\u001b[0m\u001b[0;34m'\\n\\nRetrieving weather data for '\u001b[0m\u001b[0;34m+\u001b[0m\u001b[0mlocation\u001b[0m\u001b[0;34m+\u001b[0m\u001b[0;34m'\\n\\n'\u001b[0m\u001b[0;34m)\u001b[0m\u001b[0;34m\u001b[0m\u001b[0;34m\u001b[0m\u001b[0m\n\u001b[0;32m--> 106\u001b[0;31m         \u001b[0mdf_this_city\u001b[0m \u001b[0;34m=\u001b[0m \u001b[0mretrieve_this_location\u001b[0m\u001b[0;34m(\u001b[0m\u001b[0mapi_key\u001b[0m\u001b[0;34m,\u001b[0m\u001b[0mlocation\u001b[0m\u001b[0;34m,\u001b[0m\u001b[0mstart_date\u001b[0m\u001b[0;34m,\u001b[0m\u001b[0mend_date\u001b[0m\u001b[0;34m,\u001b[0m\u001b[0mfrequency\u001b[0m\u001b[0;34m)\u001b[0m\u001b[0;34m\u001b[0m\u001b[0;34m\u001b[0m\u001b[0m\n\u001b[0m\u001b[1;32m    107\u001b[0m \u001b[0;34m\u001b[0m\u001b[0m\n\u001b[1;32m    108\u001b[0m         \u001b[0;32mif\u001b[0m \u001b[0;34m(\u001b[0m\u001b[0mlocation_label\u001b[0m \u001b[0;34m==\u001b[0m \u001b[0;32mTrue\u001b[0m\u001b[0;34m)\u001b[0m\u001b[0;34m:\u001b[0m\u001b[0;34m\u001b[0m\u001b[0;34m\u001b[0m\u001b[0m\n",
      "\u001b[0;32m~/opt/anaconda3/lib/python3.7/site-packages/wwo_hist/__init__.py\u001b[0m in \u001b[0;36mretrieve_this_location\u001b[0;34m(api_key, location, start_date, end_date, frequency)\u001b[0m\n\u001b[1;32m     89\u001b[0m         \u001b[0mjson_page\u001b[0m \u001b[0;34m=\u001b[0m \u001b[0murllib\u001b[0m\u001b[0;34m.\u001b[0m\u001b[0mrequest\u001b[0m\u001b[0;34m.\u001b[0m\u001b[0murlopen\u001b[0m\u001b[0;34m(\u001b[0m\u001b[0murl_page\u001b[0m\u001b[0;34m)\u001b[0m\u001b[0;34m\u001b[0m\u001b[0;34m\u001b[0m\u001b[0m\n\u001b[1;32m     90\u001b[0m         \u001b[0mjson_data\u001b[0m \u001b[0;34m=\u001b[0m \u001b[0mjson\u001b[0m\u001b[0;34m.\u001b[0m\u001b[0mloads\u001b[0m\u001b[0;34m(\u001b[0m\u001b[0mjson_page\u001b[0m\u001b[0;34m.\u001b[0m\u001b[0mread\u001b[0m\u001b[0;34m(\u001b[0m\u001b[0;34m)\u001b[0m\u001b[0;34m.\u001b[0m\u001b[0mdecode\u001b[0m\u001b[0;34m(\u001b[0m\u001b[0;34m)\u001b[0m\u001b[0;34m)\u001b[0m\u001b[0;34m\u001b[0m\u001b[0;34m\u001b[0m\u001b[0m\n\u001b[0;32m---> 91\u001b[0;31m         \u001b[0mdata\u001b[0m\u001b[0;34m=\u001b[0m \u001b[0mjson_data\u001b[0m\u001b[0;34m[\u001b[0m\u001b[0;34m'data'\u001b[0m\u001b[0;34m]\u001b[0m\u001b[0;34m[\u001b[0m\u001b[0;34m'weather'\u001b[0m\u001b[0;34m]\u001b[0m\u001b[0;34m\u001b[0m\u001b[0;34m\u001b[0m\u001b[0m\n\u001b[0m\u001b[1;32m     92\u001b[0m        \u001b[0;31m# call function to extract json object\u001b[0m\u001b[0;34m\u001b[0m\u001b[0;34m\u001b[0m\u001b[0;34m\u001b[0m\u001b[0m\n\u001b[1;32m     93\u001b[0m         \u001b[0mdf_this_month\u001b[0m \u001b[0;34m=\u001b[0m \u001b[0mextract_monthly_data\u001b[0m\u001b[0;34m(\u001b[0m\u001b[0mdata\u001b[0m\u001b[0;34m)\u001b[0m\u001b[0;34m\u001b[0m\u001b[0;34m\u001b[0m\u001b[0m\n",
      "\u001b[0;31mKeyError\u001b[0m: 'weather'"
     ]
    }
   ],
   "source": [
    "frequency=12\n",
    "start_date = '22-JAN-2020'\n",
    "end_date = datetime.datetime.today().strftime('%d-%b-%Y')\n",
    "api_key = '473f9493d5f44972a2a185250201603'\n",
    "location_list = ['China', 'Italy', 'Iran', 'Saudi', 'Ko', 'Spain']\n",
    "\n",
    "hist_weather_data = retrieve_hist_data(api_key,\n",
    "                                location_list,\n",
    "                                start_date,\n",
    "                                end_date,\n",
    "                                frequency,\n",
    "                                location_label = False,\n",
    "                                export_csv = True,\n",
    "                                store_df = True)"
   ]
  },
  {
   "cell_type": "code",
   "execution_count": null,
   "metadata": {},
   "outputs": [],
   "source": []
  }
 ],
 "metadata": {
  "kernelspec": {
   "display_name": "Python 3",
   "language": "python",
   "name": "python3"
  },
  "language_info": {
   "codemirror_mode": {
    "name": "ipython",
    "version": 3
   },
   "file_extension": ".py",
   "mimetype": "text/x-python",
   "name": "python",
   "nbconvert_exporter": "python",
   "pygments_lexer": "ipython3",
   "version": "3.7.4"
  }
 },
 "nbformat": 4,
 "nbformat_minor": 2
}
