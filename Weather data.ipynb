{
 "cells": [
  {
   "cell_type": "code",
   "execution_count": null,
   "metadata": {},
   "outputs": [],
   "source": [
    "pip install wwo-hist"
   ]
  },
  {
   "cell_type": "code",
   "execution_count": 3,
   "metadata": {},
   "outputs": [],
   "source": [
    "from wwo_hist import retrieve_hist_data\n",
    "import datetime"
   ]
  },
  {
   "cell_type": "code",
   "execution_count": 7,
   "metadata": {},
   "outputs": [
    {
     "name": "stdout",
     "output_type": "stream",
     "text": [
      "\n",
      "\n",
      "Retrieving weather data for Spain\n",
      "\n",
      "\n",
      "Currently retrieving data for Spain: from 2020-01-22 to 2020-01-31\n",
      "Time elapsed (hh:mm:ss.ms) 0:00:00.617036\n",
      "Currently retrieving data for Spain: from 2020-02-01 to 2020-02-29\n",
      "Time elapsed (hh:mm:ss.ms) 0:00:01.653949\n",
      "Currently retrieving data for Spain: from 2020-03-01 to 2020-03-16\n",
      "Time elapsed (hh:mm:ss.ms) 0:00:02.363259\n",
      "\n",
      "\n",
      "export Spain completed!\n",
      "\n",
      "\n"
     ]
    }
   ],
   "source": [
    "frequency=12\n",
    "start_date = '22-JAN-2020'\n",
    "end_date = datetime.datetime.today().strftime('%d-%b-%Y')\n",
    "api_key = '473f9493d5f44972a2a185250201603'\n",
    "location_list = ['China', 'Italy', 'Iran', 'Saudi', 'Spain'] # 'South Korea' 'Ko'\n",
    "\n",
    "hist_weather_data = retrieve_hist_data(api_key,\n",
    "                                location_list,\n",
    "                                start_date,\n",
    "                                end_date,\n",
    "                                frequency,\n",
    "                                location_label = False,\n",
    "                                export_csv = True,\n",
    "                                store_df = True)"
   ]
  },
  {
   "cell_type": "code",
   "execution_count": null,
   "metadata": {},
   "outputs": [],
   "source": []
  }
 ],
 "metadata": {
  "kernelspec": {
   "display_name": "Python 3",
   "language": "python",
   "name": "python3"
  },
  "language_info": {
   "codemirror_mode": {
    "name": "ipython",
    "version": 3
   },
   "file_extension": ".py",
   "mimetype": "text/x-python",
   "name": "python",
   "nbconvert_exporter": "python",
   "pygments_lexer": "ipython3",
   "version": "3.7.4"
  }
 },
 "nbformat": 4,
 "nbformat_minor": 2
}
